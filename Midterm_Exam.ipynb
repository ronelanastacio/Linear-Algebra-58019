{
  "nbformat": 4,
  "nbformat_minor": 0,
  "metadata": {
    "colab": {
      "name": "Midterm Exam.ipynb",
      "provenance": [],
      "authorship_tag": "ABX9TyOB/TReCEsrHORMkEEvkV2V",
      "include_colab_link": true
    },
    "kernelspec": {
      "name": "python3",
      "display_name": "Python 3"
    },
    "language_info": {
      "name": "python"
    }
  },
  "cells": [
    {
      "cell_type": "markdown",
      "metadata": {
        "id": "view-in-github",
        "colab_type": "text"
      },
      "source": [
        "<a href=\"https://colab.research.google.com/github/roneljr/Linear-Algebra-58019/blob/main/Midterm_Exam.ipynb\" target=\"_parent\"><img src=\"https://colab.research.google.com/assets/colab-badge.svg\" alt=\"Open In Colab\"/></a>"
      ]
    },
    {
      "cell_type": "markdown",
      "metadata": {
        "id": "xxyMRDzL7QtI"
      },
      "source": [
        "##Midterm Exam"
      ]
    },
    {
      "cell_type": "markdown",
      "metadata": {
        "id": "n_4sd2l98DRx"
      },
      "source": [
        "#Question 1. Create a Python code that displays a square matrix whose length is 5"
      ]
    },
    {
      "cell_type": "code",
      "metadata": {
        "colab": {
          "base_uri": "https://localhost:8080/"
        },
        "id": "sQYMS3Xr5LQ8",
        "outputId": "4c6972f1-6b3c-4ea2-c337-6e264644b7bb"
      },
      "source": [
        "import numpy as np \n",
        "A = np.array ([[1,2,3,4,5],[2,0,0,0,0],[3,0,0,0,0],[4,0,0,0,0],[5,0,0,0,0]]) #5x5 matrix\n",
        "print(A) "
      ],
      "execution_count": 3,
      "outputs": [
        {
          "output_type": "stream",
          "name": "stdout",
          "text": [
            "[[1 2 3 4 5]\n",
            " [2 0 0 0 0]\n",
            " [3 0 0 0 0]\n",
            " [4 0 0 0 0]\n",
            " [5 0 0 0 0]]\n"
          ]
        }
      ]
    },
    {
      "cell_type": "markdown",
      "metadata": {
        "id": "ZVWW06bs9GIt"
      },
      "source": [
        "#Question 2. Create a Python code that displays a square matrix whose elements below the principal diagonal are zero"
      ]
    },
    {
      "cell_type": "code",
      "metadata": {
        "colab": {
          "base_uri": "https://localhost:8080/"
        },
        "id": "F6iKETlI9Kij",
        "outputId": "961ff307-01db-4d45-d754-9a93ee0a2de9"
      },
      "source": [
        "C = np.array ([[1,1,1,1,],[0,1,1,1,],[0,0,1,1,],[0,0,0,1],]) \n",
        "print()\n",
        "print(C)"
      ],
      "execution_count": 25,
      "outputs": [
        {
          "output_type": "stream",
          "name": "stdout",
          "text": [
            "\n",
            "[[1 1 1 1]\n",
            " [0 1 1 1]\n",
            " [0 0 1 1]\n",
            " [0 0 0 1]]\n"
          ]
        }
      ]
    },
    {
      "cell_type": "markdown",
      "metadata": {
        "id": "_3spG-2-9K96"
      },
      "source": [
        "#Question 3. Create a Python code that displays a square matrix which is symmetrical"
      ]
    },
    {
      "cell_type": "code",
      "metadata": {
        "colab": {
          "base_uri": "https://localhost:8080/"
        },
        "id": "_shBQNnZ9O9c",
        "outputId": "0c8cc616-8bc4-44b5-cefd-35867f408c9f"
      },
      "source": [
        "#Create a symmetrical matrix\n",
        "C = np.array([[1,2,3,4,5],[2,1,2,3,4],[3,2,1,2,3],[4,3,2,1,2],[5,4,3,2,1]])\n",
        "print(C)"
      ],
      "execution_count": 23,
      "outputs": [
        {
          "output_type": "stream",
          "name": "stdout",
          "text": [
            "[[1 2 3 4 5]\n",
            " [2 1 2 3 4]\n",
            " [3 2 1 2 3]\n",
            " [4 3 2 1 2]\n",
            " [5 4 3 2 1]]\n"
          ]
        }
      ]
    },
    {
      "cell_type": "markdown",
      "metadata": {
        "id": "s198ds2_9PaR"
      },
      "source": [
        "#Question 4. What is the inverse of matrix C? Show your solution by python coding."
      ]
    },
    {
      "cell_type": "code",
      "metadata": {
        "colab": {
          "base_uri": "https://localhost:8080/"
        },
        "id": "1GXwy25d9SvH",
        "outputId": "7a88435e-f2cd-413b-b846-b4a52e4136ea"
      },
      "source": [
        "import numpy as np\n",
        "C = np.array([[1,2,3],[2,3,3],[3,4,-2]]) #creation of matrix C\n",
        "print(C)\n",
        "print()\n",
        "inv_C = np.linalg.inv(C) #creation of inverse matrix C\n",
        "print(inv_C)"
      ],
      "execution_count": 12,
      "outputs": [
        {
          "output_type": "stream",
          "name": "stdout",
          "text": [
            "[[ 1  2  3]\n",
            " [ 2  3  3]\n",
            " [ 3  4 -2]]\n",
            "\n",
            "[[-3.6  3.2 -0.6]\n",
            " [ 2.6 -2.2  0.6]\n",
            " [-0.2  0.4 -0.2]]\n"
          ]
        }
      ]
    },
    {
      "cell_type": "markdown",
      "metadata": {
        "id": "u4yNTLJm9TBp"
      },
      "source": [
        "#Question 5. What is the determinant of the given matrix in Question 4? Show your solution by python coding."
      ]
    },
    {
      "cell_type": "code",
      "metadata": {
        "colab": {
          "base_uri": "https://localhost:8080/"
        },
        "id": "QdkaUNsD9W4-",
        "outputId": "a5a9a5e1-838d-46da-f584-ba3bc5c62f95"
      },
      "source": [
        "import numpy as np\n",
        "C = np.array([[1,2,3],[2,3,3],[3,4,-2]])\n",
        "print(C)\n",
        "print()\n",
        "print(round(np.linalg.det(C))) #Determinant of given matrix in Question 4"
      ],
      "execution_count": 9,
      "outputs": [
        {
          "output_type": "stream",
          "name": "stdout",
          "text": [
            "[[ 1  2  3]\n",
            " [ 2  3  3]\n",
            " [ 3  4 -2]]\n",
            "\n",
            "5\n"
          ]
        }
      ]
    },
    {
      "cell_type": "markdown",
      "metadata": {
        "id": "a64xkXj49XM1"
      },
      "source": [
        "#Question 6. Find the roots of the linear equations by showing its python codes\n",
        "5X1 + 4X2 + X3 = 3.4\n",
        "\n",
        "10X1 + 9X2 + 4X3 = 8.8\n",
        "\n",
        "10X1 + 13X2 + 15X3 = 19.2"
      ]
    },
    {
      "cell_type": "code",
      "metadata": {
        "colab": {
          "base_uri": "https://localhost:8080/"
        },
        "id": "_sWUue4X9fFh",
        "outputId": "6b16ad7f-29a8-4741-dd73-1310269c86ca"
      },
      "source": [
        "A = np.array([[5,4,1],[10,9,4],[10,13,15]])\n",
        "B = np.array([[[3.4],[8.8],[19.2]]])\n",
        "C = np.linalg.inv(A) @ B #root of the equation\n",
        "print(C)"
      ],
      "execution_count": 27,
      "outputs": [
        {
          "output_type": "stream",
          "name": "stdout",
          "text": [
            "[[[0.2]\n",
            "  [0.4]\n",
            "  [0.8]]]\n"
          ]
        }
      ]
    }
  ]
}