{
  "nbformat": 4,
  "nbformat_minor": 0,
  "metadata": {
    "colab": {
      "name": "Application.ipynb",
      "provenance": [],
      "authorship_tag": "ABX9TyOGNX88eI7AshExdd8eRIrF",
      "include_colab_link": true
    },
    "kernelspec": {
      "name": "python3",
      "display_name": "Python 3"
    },
    "language_info": {
      "name": "python"
    }
  },
  "cells": [
    {
      "cell_type": "markdown",
      "metadata": {
        "id": "view-in-github",
        "colab_type": "text"
      },
      "source": [
        "<a href=\"https://colab.research.google.com/github/roneljr/Linear-Algebra-58019/blob/main/Application.ipynb\" target=\"_parent\"><img src=\"https://colab.research.google.com/assets/colab-badge.svg\" alt=\"Open In Colab\"/></a>"
      ]
    },
    {
      "cell_type": "markdown",
      "metadata": {
        "id": "Iulxt2vdEtGI"
      },
      "source": [
        "##Price of one apple and one orange "
      ]
    },
    {
      "cell_type": "code",
      "metadata": {
        "colab": {
          "base_uri": "https://localhost:8080/"
        },
        "id": "A9Ed6rfhEl3r",
        "outputId": "c335c26f-c97a-4771-9c81-08fce3fb4fe8"
      },
      "source": [
        "import numpy as np\n",
        "from scipy.linalg import solve\n",
        "A = np.array([[20,10],[17,22]])\n",
        "B = np.array([[350],[500]])\n",
        "print(A)\n",
        "print()\n",
        "print(B)\n",
        "print()\n",
        "X = solve(A,B)\n",
        "print(X)"
      ],
      "execution_count": 7,
      "outputs": [
        {
          "output_type": "stream",
          "name": "stdout",
          "text": [
            "[[20 10]\n",
            " [17 22]]\n",
            "\n",
            "[[350]\n",
            " [500]]\n",
            "\n",
            "[[10.]\n",
            " [15.]]\n"
          ]
        }
      ]
    },
    {
      "cell_type": "code",
      "metadata": {
        "colab": {
          "base_uri": "https://localhost:8080/"
        },
        "id": "8G3GNX6PHLM5",
        "outputId": "f31e8f97-b935-42e7-f8fd-aa61c870c02f"
      },
      "source": [
        "inv_A = np.linalg.inv(A)\n",
        "print(inv_A)\n",
        "print()\n",
        "X = np.linalg.inv(A).dot(B)\n",
        "print(X)"
      ],
      "execution_count": 4,
      "outputs": [
        {
          "output_type": "stream",
          "name": "stdout",
          "text": [
            "[[ 0.08148148 -0.03703704]\n",
            " [-0.06296296  0.07407407]]\n",
            "\n",
            "[[10.]\n",
            " [15.]]\n"
          ]
        }
      ]
    },
    {
      "cell_type": "code",
      "metadata": {
        "colab": {
          "base_uri": "https://localhost:8080/"
        },
        "id": "1-47PrqJH9_J",
        "outputId": "f6757e3d-5797-496c-f9b1-73d31e0fc582"
      },
      "source": [
        "X = np.dot(inv_A,B)\n",
        "print(X)"
      ],
      "execution_count": 5,
      "outputs": [
        {
          "output_type": "stream",
          "name": "stdout",
          "text": [
            "[[10.]\n",
            " [15.]]\n"
          ]
        }
      ]
    },
    {
      "cell_type": "markdown",
      "metadata": {
        "id": "j_ydh4RtLEPT"
      },
      "source": [
        "##Solving for three linear equations with unknown variables of x, y, and z"
      ]
    },
    {
      "cell_type": "code",
      "metadata": {
        "colab": {
          "base_uri": "https://localhost:8080/"
        },
        "id": "1nCz3oHXLCir",
        "outputId": "bd7e1533-1582-4d8f-ccda-787e12a48e5c"
      },
      "source": [
        "#4x+3y+2z=25\n",
        "#-2x+2y+3z=-10\n",
        "#3x-5y+2z=-4\n",
        "import numpy as np\n",
        "from scipy.linalg import solve\n",
        "A = np.array([[4,3,2],[-2,2,3],[3,-5,2]])\n",
        "B = np.array([[25],[-10],[-4]])\n",
        "print(A)\n",
        "print()\n",
        "print(B)\n",
        "print()\n",
        "X = solve(A,B)\n",
        "print(X)\n"
      ],
      "execution_count": 9,
      "outputs": [
        {
          "output_type": "stream",
          "name": "stdout",
          "text": [
            "[[ 4  3  2]\n",
            " [-2  2  3]\n",
            " [ 3 -5  2]]\n",
            "\n",
            "[[ 25]\n",
            " [-10]\n",
            " [ -4]]\n",
            "\n",
            "[[ 5.]\n",
            " [ 3.]\n",
            " [-2.]]\n"
          ]
        }
      ]
    }
  ]
}