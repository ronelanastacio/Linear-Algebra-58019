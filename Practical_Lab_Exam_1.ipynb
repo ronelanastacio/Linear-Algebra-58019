{
  "nbformat": 4,
  "nbformat_minor": 0,
  "metadata": {
    "colab": {
      "name": "Practical Lab Exam 1.ipynb",
      "provenance": [],
      "authorship_tag": "ABX9TyPMrBzg7GEDSU8SgHp4jzkU",
      "include_colab_link": true
    },
    "kernelspec": {
      "name": "python3",
      "display_name": "Python 3"
    },
    "language_info": {
      "name": "python"
    }
  },
  "cells": [
    {
      "cell_type": "markdown",
      "metadata": {
        "id": "view-in-github",
        "colab_type": "text"
      },
      "source": [
        "<a href=\"https://colab.research.google.com/github/roneljr/Linear-Algebra-58019/blob/main/Practical_Lab_Exam_1.ipynb\" target=\"_parent\"><img src=\"https://colab.research.google.com/assets/colab-badge.svg\" alt=\"Open In Colab\"/></a>"
      ]
    },
    {
      "cell_type": "markdown",
      "metadata": {
        "id": "l_tx6cwd0wNA"
      },
      "source": [
        "##Practical Lab Exam 1"
      ]
    },
    {
      "cell_type": "code",
      "metadata": {
        "colab": {
          "base_uri": "https://localhost:8080/"
        },
        "id": "PiqOpvj1x2Yq",
        "outputId": "af2a33fa-7450-47ac-ffd1-ae73c7f5c032"
      },
      "source": [
        "#numpy\n",
        "import numpy as np\n",
        "A = np.array([[1,2,3],[4,5,6]])\n",
        "print(A)\n",
        "print()\n",
        "B = np.array([[1,2],[3,4],[5,6]])\n",
        "print(B)\n",
        "print()\n",
        "C = np.array([[1,2,3],[4,5,6],[7,8,9]])\n",
        "print(C)\n",
        "print()\n",
        "D = np.array([[1,2],[3,4]])\n",
        "print(D)\n",
        "print()\n",
        "dot = np.dot(A,B)\n",
        "print(dot)\n",
        "print()\n",
        "print(D+D)\n",
        "print()\n",
        "print(2*C)"
      ],
      "execution_count": 1,
      "outputs": [
        {
          "output_type": "stream",
          "name": "stdout",
          "text": [
            "[[1 2 3]\n",
            " [4 5 6]]\n",
            "\n",
            "[[1 2]\n",
            " [3 4]\n",
            " [5 6]]\n",
            "\n",
            "[[1 2 3]\n",
            " [4 5 6]\n",
            " [7 8 9]]\n",
            "\n",
            "[[1 2]\n",
            " [3 4]]\n",
            "\n",
            "[[22 28]\n",
            " [49 64]]\n",
            "\n",
            "[[2 4]\n",
            " [6 8]]\n",
            "\n",
            "[[ 2  4  6]\n",
            " [ 8 10 12]\n",
            " [14 16 18]]\n"
          ]
        }
      ]
    },
    {
      "cell_type": "code",
      "metadata": {
        "colab": {
          "base_uri": "https://localhost:8080/"
        },
        "id": "2UmaSqyzzV_Q",
        "outputId": "74270bed-b054-4233-d52a-77326437d5e4"
      },
      "source": [
        "import numpy as np\n",
        "A = np.array([5, 3, -1])\n",
        "\n",
        "print('Size of array:', A.size)\n",
        "print('Type of array:', type(A))\n",
        "print('Shape of array:', A.shape)\n",
        "print('Dimension of array:', A.ndim)"
      ],
      "execution_count": 2,
      "outputs": [
        {
          "output_type": "stream",
          "name": "stdout",
          "text": [
            "Size of array: 3\n",
            "Type of array: <class 'numpy.ndarray'>\n",
            "Shape of array: (3,)\n",
            "Dimension of array: 1\n"
          ]
        }
      ]
    }
  ]
}